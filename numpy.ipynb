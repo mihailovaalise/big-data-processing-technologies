{
  "cells": [
    {
      "cell_type": "markdown",
      "metadata": {
        "id": "fqzGy6JoZAtp"
      },
      "source": [
        "# Numpy"
      ]
    },
    {
      "cell_type": "code",
      "execution_count": null,
      "metadata": {
        "id": "nsL9IsnmZAts"
      },
      "outputs": [],
      "source": [
        "import numpy as np"
      ]
    },
    {
      "cell_type": "markdown",
      "metadata": {
        "id": "fGqwazlkZAtt"
      },
      "source": [
        "1. Сгенерировать двухмерный массив `arr` размерности (4, 7), состоящий из случайных действительных чисел, равномерно распределенных в диапазоне от 0 до 20. Нормализовать значения массива с помощью преобразования вида  $𝑎𝑥+𝑏$  так, что после нормализации максимальный элемент масcива будет равен 1.0, минимальный 0.0"
      ]
    },
    {
      "cell_type": "code",
      "execution_count": null,
      "metadata": {
        "scrolled": true,
        "id": "PkIkSfhRZAtt",
        "outputId": "885d6fb0-843c-44a9-a01a-e7c9b799ab31"
      },
      "outputs": [
        {
          "data": {
            "text/plain": [
              "array([[17,  0,  5, 15, 19, 12, 10],\n",
              "       [ 3, 14,  9,  3,  7,  7,  9],\n",
              "       [ 0,  7,  8,  5,  0, 10,  7],\n",
              "       [16,  1, 19, 17, 12,  5,  0]])"
            ]
          },
          "execution_count": 3,
          "metadata": {},
          "output_type": "execute_result"
        }
      ],
      "source": [
        "arr = np.random.randint(21, size=(4,7))\n",
        "arr"
      ]
    },
    {
      "cell_type": "code",
      "execution_count": null,
      "metadata": {
        "id": "lJtHfPJKZAtu",
        "outputId": "144a03ee-bc90-426a-d818-58bf3586ae3f"
      },
      "outputs": [
        {
          "data": {
            "text/plain": [
              "array([[0.85, 0.35, 1.  , 0.35, 0.9 , 0.  , 0.3 ],\n",
              "       [0.95, 0.25, 0.65, 0.4 , 0.25, 0.6 , 0.35],\n",
              "       [0.5 , 0.4 , 0.8 , 0.7 , 0.95, 0.3 , 0.7 ],\n",
              "       [0.4 , 0.35, 0.4 , 0.95, 0.8 , 0.15, 0.45]])"
            ]
          },
          "execution_count": 10,
          "metadata": {},
          "output_type": "execute_result"
        }
      ],
      "source": [
        "(arr-np.min(arr))/(np.max(arr)-np.min(arr))"
      ]
    },
    {
      "cell_type": "markdown",
      "metadata": {
        "id": "zBZTk5SiZAtu"
      },
      "source": [
        "2. Создать матрицу 8 на 10 из случайных целых (используя модуль `numpy.random`) чисел из диапозона от 0 до 10 и найти в ней строку (ее индекс и вывести саму строку), в которой сумма значений минимальна."
      ]
    },
    {
      "cell_type": "code",
      "execution_count": null,
      "metadata": {
        "id": "_fasGKPjZAtu",
        "outputId": "0b42f291-a9d2-4573-c92f-43813813c1a7"
      },
      "outputs": [
        {
          "data": {
            "text/plain": [
              "(array([3, 1, 2, 1, 2, 4, 6, 1, 3, 0]), 7)"
            ]
          },
          "execution_count": 37,
          "metadata": {},
          "output_type": "execute_result"
        }
      ],
      "source": [
        "a1 = np.random.randint(11, size=(8,10))\n",
        "a1[a1.sum(axis=1).argmin()],a1.sum(axis=1).argmin()"
      ]
    },
    {
      "cell_type": "markdown",
      "metadata": {
        "id": "I7MOIcNFZAtu"
      },
      "source": [
        "3. Найти евклидово расстояние между двумя одномерными векторами одинаковой размерности."
      ]
    },
    {
      "cell_type": "code",
      "execution_count": null,
      "metadata": {
        "id": "_Ce9skvoZAtu",
        "outputId": "0ca1e0a8-1768-4034-acf0-0bffdb0d56e5"
      },
      "outputs": [
        {
          "data": {
            "text/plain": [
              "12.083045973594572"
            ]
          },
          "execution_count": 26,
          "metadata": {},
          "output_type": "execute_result"
        }
      ],
      "source": [
        "a1 = np.random.randint(10, size=(1,10))\n",
        "a2 = np.random.randint(10, size=(1,10))\n",
        "r = np.linalg.norm(a1-a2)\n",
        "r"
      ]
    },
    {
      "cell_type": "markdown",
      "metadata": {
        "id": "N3z5tdUHZAtv"
      },
      "source": [
        "4. Решить матричное уравнение `A*X*B=-C` - найти матрицу `X`. Где `A = [[-1, 2, 4], [-3, 1, 2], [-3, 0, 1]]`, `B=[[3, -1], [2, 1]]`, `C=[[7, 21], [11, 8], [8, 4]]`."
      ]
    },
    {
      "cell_type": "code",
      "execution_count": null,
      "metadata": {
        "id": "c0Zb0-w8ZAtv",
        "outputId": "d68dd32a-d1a0-4e6e-d030-e20012fcdb8c",
        "colab": {
          "base_uri": "https://localhost:8080/"
        }
      },
      "outputs": [
        {
          "output_type": "execute_result",
          "data": {
            "text/plain": [
              "array([[ 1.00000000e+00,  5.32907052e-16],\n",
              "       [-2.00000000e+00,  1.00000000e+00],\n",
              "       [ 3.00000000e+00, -4.00000000e+00]])"
            ]
          },
          "metadata": {},
          "execution_count": 18
        }
      ],
      "source": [
        "A = np.array([[-1,2,4],[-3,1,2],[-3,0,1]])\n",
        "B = np.array([[3,-1],[2,1]])\n",
        "C = np.array([[7,21],[11,8],[8,4]])\n",
        "A1 = np.linalg.inv(A)\n",
        "B1 = np.linalg.inv(B)\n",
        "C1 = C*(-1)\n",
        "x = A1 @ C1 @ B1\n",
        "x"
      ]
    },
    {
      "cell_type": "markdown",
      "metadata": {
        "id": "kevW8nEtZAtv"
      },
      "source": [
        "## Продолжение"
      ]
    },
    {
      "cell_type": "markdown",
      "metadata": {
        "id": "d7eLBEG1ZAtv"
      },
      "source": [
        "Замечание: при решении данных задач не подразумевается использования циклов или генераторов Python, если в задании не сказано обратного. Решение должно опираться на использования функционала библиотеки `numpy`."
      ]
    },
    {
      "cell_type": "markdown",
      "metadata": {
        "id": "-3GSpVJaZAtv"
      },
      "source": [
        "1. Файл `minutes_n_ingredients.csv` содержит информацию об идентификаторе рецепта, времени его выполнения в минутах и количестве необходимых ингредиентов. Считайте данные из этого файла в виде массива `numpy` типа `int32`, используя `np.loadtxt`. Выведите на экран первые 5 строк массива."
      ]
    },
    {
      "cell_type": "code",
      "execution_count": null,
      "metadata": {
        "colab": {
          "base_uri": "https://localhost:8080/"
        },
        "id": "Iu3jTc_RZAtv",
        "outputId": "dcc2cf27-b7c5-4137-9a5d-61f63f46e898"
      },
      "outputs": [
        {
          "output_type": "stream",
          "name": "stdout",
          "text": [
            "[[127244     60     16]\n",
            " [ 23891     25      7]\n",
            " [ 94746     10      6]\n",
            " [ 67660      5      6]\n",
            " [157911     60     14]]\n"
          ]
        }
      ],
      "source": [
        "recipe = np.loadtxt('minutes_n_ingredients.csv', dtype = 'int32', delimiter = ',', skiprows = 1)\n",
        "print(recipe[:5])"
      ]
    },
    {
      "cell_type": "markdown",
      "metadata": {
        "id": "UzI5EQ70ZAtv"
      },
      "source": [
        "2. Вычислите среднее значение, минимум, максимум и медиану по каждому из столбцов, кроме первого."
      ]
    },
    {
      "cell_type": "code",
      "execution_count": null,
      "metadata": {
        "colab": {
          "base_uri": "https://localhost:8080/"
        },
        "id": "e2gQefoTZAtw",
        "outputId": "b9aee7fc-dd91-4a10-b3f8-4398bd09c41f"
      },
      "outputs": [
        {
          "output_type": "stream",
          "name": "stdout",
          "text": [
            "Среднее значение  [2.16010017e+04 9.05528000e+00]\n",
            "Максимальные значения  [2147483647         39]\n",
            "Минимальные значения  [0 1]\n",
            "Медианы  [40.  9.]\n"
          ]
        }
      ],
      "source": [
        "print('Среднее значение ', np.mean(recipe[:,1:], 0))\n",
        "print('Максимальные значения ',np.max(recipe[:,1:],0))\n",
        "print('Минимальные значения ',np.min(recipe[:,1:],0))\n",
        "print('Медианы ',np.median(recipe[:,1:],0))"
      ]
    },
    {
      "cell_type": "markdown",
      "metadata": {
        "id": "dlm_l_q9ZAtw"
      },
      "source": [
        "3. Ограничьте сверху значения продолжительности выполнения рецепта значением квантиля $q_{0.75}$."
      ]
    },
    {
      "cell_type": "code",
      "execution_count": null,
      "metadata": {
        "id": "hvcz6RMYZAtw",
        "outputId": "a176774d-f977-4ec3-cf7e-d799e9874195",
        "colab": {
          "base_uri": "https://localhost:8080/"
        }
      },
      "outputs": [
        {
          "output_type": "stream",
          "name": "stdout",
          "text": [
            "65.0\n",
            "[[127244     60     16]\n",
            " [ 23891     25      7]\n",
            " [ 94746     10      6]\n",
            " ...\n",
            " [ 43407     35      7]\n",
            " [498432     65     15]\n",
            " [370915      5      4]]\n"
          ]
        }
      ],
      "source": [
        "maxim = np.quantile(recipe[:,1], 0.75, axis = 0)\n",
        "print(maxim)\n",
        "print(recipe[recipe[:,1]<=maxim])"
      ]
    },
    {
      "cell_type": "markdown",
      "metadata": {
        "id": "BOoXG5LWZAtw"
      },
      "source": [
        "4. Посчитайте, для скольких рецептов указана продолжительность, равная нулю. Замените для таких строк значение в данном столбце на 1."
      ]
    },
    {
      "cell_type": "code",
      "execution_count": null,
      "metadata": {
        "id": "EyNgagC4ZAtw",
        "outputId": "d0940af2-bd1f-44f1-df25-2086fa329654",
        "colab": {
          "base_uri": "https://localhost:8080/"
        }
      },
      "outputs": [
        {
          "output_type": "stream",
          "name": "stdout",
          "text": [
            "0\n"
          ]
        }
      ],
      "source": [
        "a = np.count_nonzero(recipe[:,1] == 0)\n",
        "recipe[recipe[:,1]==0] = 1\n",
        "print( np.count_nonzero(recipe[:,1] == 0))"
      ]
    },
    {
      "cell_type": "markdown",
      "metadata": {
        "id": "4Lfvj2IiZAtx"
      },
      "source": [
        "5. Посчитайте, сколько уникальных рецептов находится в датасете."
      ]
    },
    {
      "cell_type": "code",
      "execution_count": null,
      "metadata": {
        "id": "tc59hQQTZAtx",
        "outputId": "a126cbbf-2e17-4f0f-bc90-202fa1cbb811",
        "colab": {
          "base_uri": "https://localhost:8080/"
        }
      },
      "outputs": [
        {
          "output_type": "stream",
          "name": "stdout",
          "text": [
            "99522\n"
          ]
        }
      ],
      "source": [
        "a = np.unique(recipe[:,0])\n",
        "print(len(a))"
      ]
    },
    {
      "cell_type": "markdown",
      "metadata": {
        "id": "SOeGDc55ZAtx"
      },
      "source": [
        "6. Сколько и каких различных значений кол-ва ингредиентов присутвует в рецептах из датасета?"
      ]
    },
    {
      "cell_type": "code",
      "execution_count": null,
      "metadata": {
        "id": "vyrkeJmEZAtx",
        "outputId": "173f1471-a9d2-4517-c417-07dd3f1a43cd",
        "colab": {
          "base_uri": "https://localhost:8080/"
        }
      },
      "outputs": [
        {
          "output_type": "stream",
          "name": "stdout",
          "text": [
            "[[    1   492]\n",
            " [    2   924]\n",
            " [    3  2884]\n",
            " [    4  5479]\n",
            " [    5  7874]\n",
            " [    6  9328]\n",
            " [    7 10579]\n",
            " [    8 10887]\n",
            " [    9 10542]\n",
            " [   10  9548]\n",
            " [   11  8262]\n",
            " [   12  6574]\n",
            " [   13  4985]\n",
            " [   14  3639]\n",
            " [   15  2583]\n",
            " [   16  1760]\n",
            " [   17  1237]\n",
            " [   18   787]\n",
            " [   19   566]\n",
            " [   20   376]\n",
            " [   21   214]\n",
            " [   22   161]\n",
            " [   23   105]\n",
            " [   24    68]\n",
            " [   25    50]\n",
            " [   26    28]\n",
            " [   27    16]\n",
            " [   28    16]\n",
            " [   29    12]\n",
            " [   30    12]\n",
            " [   31     3]\n",
            " [   32     1]\n",
            " [   33     2]\n",
            " [   34     1]\n",
            " [   35     3]\n",
            " [   37     1]\n",
            " [   39     1]]\n"
          ]
        }
      ],
      "source": [
        "a, num = np.unique(recipe[:,2], return_counts=True)\n",
        "print(np.column_stack((a, num)))"
      ]
    },
    {
      "cell_type": "markdown",
      "metadata": {
        "id": "uQWeOKHzZAtx"
      },
      "source": [
        "7. Создайте версию массива, содержащую информацию только о рецептах, состоящих не более чем из 5 ингредиентов."
      ]
    },
    {
      "cell_type": "code",
      "execution_count": null,
      "metadata": {
        "id": "6CPa-BAjZAty",
        "outputId": "9d9f18fa-e984-44dc-d41d-67abdf1d893f",
        "colab": {
          "base_uri": "https://localhost:8080/"
        }
      },
      "outputs": [
        {
          "output_type": "stream",
          "name": "stdout",
          "text": [
            "[[446597     15      5]\n",
            " [204134      5      3]\n",
            " [ 25623      6      4]\n",
            " ...\n",
            " [ 52088     60      5]\n",
            " [128811     15      4]\n",
            " [370915      5      4]]\n"
          ]
        }
      ],
      "source": [
        "arr = recipe[recipe[:,2]<=5]\n",
        "a = np.copy(arr)\n",
        "print(a)"
      ]
    },
    {
      "cell_type": "markdown",
      "metadata": {
        "id": "BHNqCIndZAty"
      },
      "source": [
        "8. Для каждого рецепта посчитайте, сколько в среднем ингредиентов приходится на одну минуту рецепта. Найдите максимальное значение этой величины для всего датасета"
      ]
    },
    {
      "cell_type": "code",
      "execution_count": null,
      "metadata": {
        "id": "_wTLyWYFZAty",
        "outputId": "cf593e78-1213-4a23-ff31-4a4f0ae9a497",
        "colab": {
          "base_uri": "https://localhost:8080/"
        }
      },
      "outputs": [
        {
          "output_type": "stream",
          "name": "stdout",
          "text": [
            "23.0\n"
          ]
        }
      ],
      "source": [
        "a = recipe[:,2]/recipe[:,1]\n",
        "print( max(a))"
      ]
    },
    {
      "cell_type": "markdown",
      "metadata": {
        "id": "u8J47dBLZAty"
      },
      "source": [
        "9. Вычислите среднее количество ингредиентов для топ-100 рецептов с наибольшей продолжительностью"
      ]
    },
    {
      "cell_type": "code",
      "execution_count": null,
      "metadata": {
        "id": "VSFOaug7ZAty",
        "outputId": "f866edd1-bc3f-421a-cab6-9f51c4146f87",
        "colab": {
          "base_uri": "https://localhost:8080/"
        }
      },
      "outputs": [
        {
          "output_type": "stream",
          "name": "stdout",
          "text": [
            "6.61\n"
          ]
        }
      ],
      "source": [
        "a = recipe[:,1].argsort()\n",
        "b = recipe[a][-100:]\n",
        "print(np.mean(b[:,2], axis = 0))"
      ]
    },
    {
      "cell_type": "markdown",
      "metadata": {
        "id": "p_OsAr74ZAty"
      },
      "source": [
        "10. Выберите случайным образом и выведите информацию о 10 различных рецептах"
      ]
    },
    {
      "cell_type": "code",
      "execution_count": null,
      "metadata": {
        "id": "bcEL10EzZAty",
        "outputId": "08a881aa-1cc5-48c0-b107-ee5e90dbb168",
        "colab": {
          "base_uri": "https://localhost:8080/"
        }
      },
      "outputs": [
        {
          "output_type": "stream",
          "name": "stdout",
          "text": [
            "[[394093      8      5]\n",
            " [276023    135      5]\n",
            " [133994  30255      8]\n",
            " [396699     50     10]\n",
            " [324877     50      9]\n",
            " [159619     60      8]\n",
            " [ 23374     75      9]\n",
            " [105069     40     10]\n",
            " [448225     20      8]\n",
            " [193947     65      9]]\n"
          ]
        }
      ],
      "source": [
        "a = np.random.randint(recipe.shape[0], size = 10)\n",
        "print(recipe[a])"
      ]
    },
    {
      "cell_type": "markdown",
      "metadata": {
        "id": "s9xrB2rUZAtz"
      },
      "source": [
        "11. Выведите процент рецептов, кол-во ингредиентов в которых меньше среднего."
      ]
    },
    {
      "cell_type": "code",
      "execution_count": null,
      "metadata": {
        "id": "4s5E-gi4ZAtz",
        "outputId": "c5eda0ed-ece8-4591-d120-0771ac2a4f73",
        "colab": {
          "base_uri": "https://localhost:8080/"
        }
      },
      "outputs": [
        {
          "output_type": "stream",
          "name": "stdout",
          "text": [
            "[[ 23891     25      7]\n",
            " [ 94746     10      6]\n",
            " [ 67660      5      6]\n",
            " ...\n",
            " [371794     35      8]\n",
            " [ 43407     35      7]\n",
            " [370915      5      4]]\n",
            "----\n",
            "58.989\n"
          ]
        }
      ],
      "source": [
        "a = np.mean(recipe[:,2], axis = 0)\n",
        "print(recipe[recipe[:,2]<a])\n",
        "print('----')\n",
        "print((100*len(recipe[recipe[:,2]<a]))/len(recipe))"
      ]
    },
    {
      "cell_type": "markdown",
      "metadata": {
        "id": "ZAjGvl-DZAtz"
      },
      "source": [
        "12. Назовем \"простым\" такой рецепт, длительность выполнения которого не больше 20 минут и кол-во ингредиентов в котором не больше 5. Создайте версию датасета с дополнительным столбцом, значениями которого являются 1, если рецепт простой, и 0 в противном случае."
      ]
    },
    {
      "cell_type": "code",
      "execution_count": null,
      "metadata": {
        "id": "7jqPch3DZAtz",
        "outputId": "d76f06e8-a789-44af-9a74-5894855add95",
        "colab": {
          "base_uri": "https://localhost:8080/"
        }
      },
      "outputs": [
        {
          "output_type": "stream",
          "name": "stdout",
          "text": [
            "[[127244     60     16      0]\n",
            " [ 23891     25      7      0]\n",
            " [ 94746     10      6      0]\n",
            " ...\n",
            " [498432     65     15      0]\n",
            " [     1      1      1      1]\n",
            " [ 81993    140     14      0]]\n"
          ]
        }
      ],
      "source": [
        "a = np.append(recipe, np.zeros((recipe.shape[0],1), dtype = 'int32'), axis = 1)\n",
        "a[np.logical_and(a[:,1]<=20,a[:,2]<=5)] = 1\n",
        "a = a.copy()\n",
        "print(a)"
      ]
    },
    {
      "cell_type": "markdown",
      "metadata": {
        "id": "fToGIfozZAtz"
      },
      "source": [
        "13. Выведите процент \"простых\" рецептов в датасете"
      ]
    },
    {
      "cell_type": "code",
      "execution_count": null,
      "metadata": {
        "id": "7S_Pwbf3ZAtz",
        "outputId": "11e79a21-3e65-4458-9e2f-16bbba9b49a4",
        "colab": {
          "base_uri": "https://localhost:8080/"
        }
      },
      "outputs": [
        {
          "output_type": "stream",
          "name": "stdout",
          "text": [
            "9.943\n"
          ]
        }
      ],
      "source": [
        "b = a[a[:,3] == 1]\n",
        "print((100*len(b)/len(recipe)))"
      ]
    },
    {
      "cell_type": "markdown",
      "metadata": {
        "id": "7y3vt2NeZAt0"
      },
      "source": [
        "14. Разделим рецепты на группы по следующему правилу. Назовем рецепты короткими, если их продолжительность составляет менее 10 минут; стандартными, если их продолжительность составляет более 10, но менее 20 минут; и длинными, если их продолжительность составляет не менее 20 минут. Создайте трехмерный массив, где нулевая ось отвечает за номер группы (короткий, стандартный или длинный рецепт), первая ось - за сам рецепт и вторая ось - за характеристики рецепта. Выберите максимальное количество рецептов из каждой группы таким образом, чтобы было возможно сформировать трехмерный массив. Выведите форму полученного массива."
      ]
    },
    {
      "cell_type": "code",
      "execution_count": null,
      "metadata": {
        "id": "AgRVD8LKZAt0",
        "outputId": "6bc0e99a-4704-447f-8d4a-a0cfa42610b5",
        "colab": {
          "base_uri": "https://localhost:8080/"
        }
      },
      "outputs": [
        {
          "output_type": "stream",
          "name": "stdout",
          "text": [
            "[[[[ 67660      5      6]\n",
            "   [366174      7      9]\n",
            "   [204134      5      3]\n",
            "   ...\n",
            "   [     1      1      1]\n",
            "   [420725      5      3]\n",
            "   [     1      1      1]]\n",
            "\n",
            "  [[ 94746     10      6]\n",
            "   [ 33941     18      9]\n",
            "   [446597     15      5]\n",
            "   ...\n",
            "   [107094     10      4]\n",
            "   [  9831     15      7]\n",
            "   [335859     12     14]]\n",
            "\n",
            "  [[127244     60     16]\n",
            "   [ 23891     25      7]\n",
            "   [157911     60     14]\n",
            "   ...\n",
            "   [ 92137     80      9]\n",
            "   [168901     25      7]\n",
            "   [392339     35     13]]]]\n"
          ]
        }
      ],
      "source": [
        "a1 = recipe[recipe[:,1]<10]\n",
        "a2 = recipe[np.logical_and(recipe[:,1]>=10, recipe[:,1]<20)]\n",
        "a3 = recipe[recipe[:,1]>=20]\n",
        "maxim = min(len(a1), len(a2), len(a3))\n",
        "b = np.array([[a1[:maxim-1],a2[:maxim-1],a3[:maxim-1]]])\n",
        "print(b)"
      ]
    }
  ],
  "metadata": {
    "kernelspec": {
      "display_name": "Python 3 (ipykernel)",
      "language": "python",
      "name": "python3"
    },
    "language_info": {
      "codemirror_mode": {
        "name": "ipython",
        "version": 3
      },
      "file_extension": ".py",
      "mimetype": "text/x-python",
      "name": "python",
      "nbconvert_exporter": "python",
      "pygments_lexer": "ipython3",
      "version": "3.9.13"
    },
    "colab": {
      "provenance": []
    }
  },
  "nbformat": 4,
  "nbformat_minor": 0
}