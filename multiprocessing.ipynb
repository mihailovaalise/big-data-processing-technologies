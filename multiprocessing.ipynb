{
  "cells": [
    {
      "cell_type": "markdown",
      "metadata": {
        "id": "W1xLFmUXdlTc"
      },
      "source": [
        "# Параллельные вычисления"
      ]
    },
    {
      "cell_type": "markdown",
      "metadata": {
        "id": "p3XwQKyRdlTk"
      },
      "source": [
        "1. Посчитайте, сколько раз встречается каждый из символов (заглавные и строчные символы не различаются) в файле `Dostoevskiy Fedor. Prestuplenie i nakazanie - BooksCafe.Net.txt` и в файле `Dostoevskiy Fedor. Igrok - BooksCafe.Net.txt`."
      ]
    },
    {
      "cell_type": "code",
      "execution_count": null,
      "metadata": {
        "colab": {
          "base_uri": "https://localhost:8080/"
        },
        "id": "5BTzNtFgjPUz",
        "outputId": "a704f3db-a721-4d49-ed84-d615326fa912"
      },
      "outputs": [
        {
          "output_type": "stream",
          "name": "stdout",
          "text": [
            "Символы в файле 'Преступление и наказание':\n",
            "Counter({' ': 182305, 'о': 106740, 'е': 80972, 'а': 73555, 'и': 62030, 'н': 60920, 'т': 59813, 'с': 50084, 'в': 43700, 'л': 42328, 'р': 39784, 'к': 30802, 'д': 29633, 'м': 29312, 'у': 27309, ',': 26973, 'п': 25652, 'ь': 20554, 'я': 19751, 'ч': 16492, 'г': 16174, 'б': 16016, 'ы': 15449, 'з': 14414, 'ж': 10552, '.': 9864, 'й': 9747, '\\n': 8583, 'х': 8127, 'ш': 7437, '—': 6440, '\\xa0': 6092, 'ю': 5418, '-': 3558, '!': 3280, 'э': 3203, 'щ': 3039, 'ц': 2782, '?': 2266, '…': 2263, ';': 1322, 'ф': 1237, '«': 1187, '»': 1175, ':': 984, 'ё': 969, '(': 528, ')': 527, '1': 384, '8': 297, '6': 271, 'i': 235, 'ъ': 223, 'e': 162, '2': 141, '5': 136, '4': 130, '7': 121, '3': 120, 'n': 114, '0': 110, 'o': 104, '9': 100, 'a': 98, 't': 98, 's': 96, 'u': 86, '[': 85, ']': 85, 'r': 76, 'v': 65, 'm': 54, 'x': 52, '–': 49, 'h': 48, '\\t': 48, 'l': 46, '№': 45, '„': 44, '“': 44, 'c': 42, 'd': 38, 'p': 29, 'b': 25, 'f': 23, '/': 22, '&': 22, '#': 22, 'g': 19, 'k': 16, 'z': 11, \"'\": 11, 'q': 9, '_': 8, 'y': 5, 'w': 4, 'j': 1})\n",
            "\n",
            "Символы в файле 'Игрок':\n",
            "Counter({' ': 45076, 'о': 23130, 'е': 20054, 'а': 18236, 'т': 14245, 'н': 14240, 'и': 13587, 'с': 11507, 'л': 9961, 'р': 9482, 'в': 9398, 'м': 7106, 'к': 6744, 'д': 6681, ',': 6372, 'у': 6044, 'п': 5489, 'я': 5458, 'ь': 4857, 'ч': 4113, 'б': 3980, 'г': 3948, 'ы': 3869, 'з': 3355, '.': 2954, '\\n': 2734, 'ж': 2297, 'й': 2028, 'ш': 1943, '—': 1726, 'х': 1535, '\\xa0': 1472, 'ю': 1323, 'e': 1200, '-': 900, 'э': 836, 'ц': 817, '!': 718, 'ф': 634, 'a': 590, 'щ': 587, 'l': 571, '?': 571, 'n': 459, 's': 429, ';': 406, 'm': 401, 'o': 377, 'i': 369, 't': 332, 'c': 324, 'r': 308, 'u': 285, '…': 280, '(': 276, ')': 276, 'h': 227, 'b': 220, ':': 212, 'd': 192, '«': 129, '»': 128, 'p': 100, '[': 97, ']': 97, 'v': 87, 'g': 73, 'ъ': 63, \"'\": 59, 'f': 52, 'q': 50, '1': 46, 'z': 44, '6': 42, '2': 42, '4': 42, '7': 42, '3': 40, '5': 40, 'j': 40, '8': 38, '9': 36, 'x': 24, '0': 22, 'k': 21, '/': 20, '`': 9, 'y': 8, 'w': 7, '_': 4})\n"
          ]
        }
      ],
      "source": [
        "from collections import Counter\n",
        "\n",
        "def count_characters_in_file(file_path):\n",
        "    with open(file_path, 'r', encoding='cp1251') as file:\n",
        "        text = file.read()\n",
        "    text = text.lower()\n",
        "    character_count = Counter(text)\n",
        "    return character_count\n",
        "\n",
        "file_path_1 = \"/content/Dostoevskiy Fedor. Prestuplenie i nakazanie - BooksCafe.Net.txt\"\n",
        "file_path_2 = \"/content/Dostoevskiy Fedor. Igrok - BooksCafe.Net.txt\"\n",
        "\n",
        "count_1 = count_characters_in_file(file_path_1)\n",
        "count_2 = count_characters_in_file(file_path_2)\n",
        "\n",
        "print(\"Символы в файле 'Преступление и наказание':\")\n",
        "print(count_1)\n",
        "\n",
        "print(\"\\nСимволы в файле 'Игрок':\")\n",
        "print(count_2)"
      ]
    },
    {
      "cell_type": "markdown",
      "metadata": {
        "id": "JX9COY8QdlTk"
      },
      "source": [
        "2. Решить задачу 1, распараллелив вычисления с помощью модуля `multiprocessing`. Для обработки каждого файла создать свой собственный процесс."
      ]
    },
    {
      "cell_type": "code",
      "execution_count": null,
      "metadata": {
        "colab": {
          "base_uri": "https://localhost:8080/"
        },
        "id": "RBiEg0aYlvs8",
        "outputId": "9bc4c467-107c-4757-9836-a9b75e941965"
      },
      "outputs": [
        {
          "output_type": "stream",
          "name": "stdout",
          "text": [
            "Символы в файле 'Преступление и наказание':\n",
            "Counter({' ': 182305, 'о': 106740, 'е': 80972, 'а': 73555, 'и': 62030, 'н': 60920, 'т': 59813, 'с': 50084, 'в': 43700, 'л': 42328, 'р': 39784, 'к': 30802, 'д': 29633, 'м': 29312, 'у': 27309, ',': 26973, 'п': 25652, 'ь': 20554, 'я': 19751, 'ч': 16492, 'г': 16174, 'б': 16016, 'ы': 15449, 'з': 14414, 'ж': 10552, '.': 9864, 'й': 9747, '\\n': 8583, 'х': 8127, 'ш': 7437, '—': 6440, '\\xa0': 6092, 'ю': 5418, '-': 3558, '!': 3280, 'э': 3203, 'щ': 3039, 'ц': 2782, '?': 2266, '…': 2263, ';': 1322, 'ф': 1237, '«': 1187, '»': 1175, ':': 984, 'ё': 969, '(': 528, ')': 527, '1': 384, '8': 297, '6': 271, 'i': 235, 'ъ': 223, 'e': 162, '2': 141, '5': 136, '4': 130, '7': 121, '3': 120, 'n': 114, '0': 110, 'o': 104, '9': 100, 'a': 98, 't': 98, 's': 96, 'u': 86, '[': 85, ']': 85, 'r': 76, 'v': 65, 'm': 54, 'x': 52, '–': 49, 'h': 48, '\\t': 48, 'l': 46, '№': 45, '„': 44, '“': 44, 'c': 42, 'd': 38, 'p': 29, 'b': 25, 'f': 23, '/': 22, '&': 22, '#': 22, 'g': 19, 'k': 16, 'z': 11, \"'\": 11, 'q': 9, '_': 8, 'y': 5, 'w': 4, 'j': 1})\n",
            "\n",
            "Символы в файле 'Игрок':\n",
            "Counter({' ': 45076, 'о': 23130, 'е': 20054, 'а': 18236, 'т': 14245, 'н': 14240, 'и': 13587, 'с': 11507, 'л': 9961, 'р': 9482, 'в': 9398, 'м': 7106, 'к': 6744, 'д': 6681, ',': 6372, 'у': 6044, 'п': 5489, 'я': 5458, 'ь': 4857, 'ч': 4113, 'б': 3980, 'г': 3948, 'ы': 3869, 'з': 3355, '.': 2954, '\\n': 2734, 'ж': 2297, 'й': 2028, 'ш': 1943, '—': 1726, 'х': 1535, '\\xa0': 1472, 'ю': 1323, 'e': 1200, '-': 900, 'э': 836, 'ц': 817, '!': 718, 'ф': 634, 'a': 590, 'щ': 587, 'l': 571, '?': 571, 'n': 459, 's': 429, ';': 406, 'm': 401, 'o': 377, 'i': 369, 't': 332, 'c': 324, 'r': 308, 'u': 285, '…': 280, '(': 276, ')': 276, 'h': 227, 'b': 220, ':': 212, 'd': 192, '«': 129, '»': 128, 'p': 100, '[': 97, ']': 97, 'v': 87, 'g': 73, 'ъ': 63, \"'\": 59, 'f': 52, 'q': 50, '1': 46, 'z': 44, '6': 42, '2': 42, '4': 42, '7': 42, '3': 40, '5': 40, 'j': 40, '8': 38, '9': 36, 'x': 24, '0': 22, 'k': 21, '/': 20, '`': 9, 'y': 8, 'w': 7, '_': 4})\n"
          ]
        }
      ],
      "source": [
        "import multiprocessing\n",
        "from collections import Counter\n",
        "\n",
        "def count_characters_in_file(file_path, result_queue):\n",
        "    with open(file_path, 'r', encoding='cp1251') as file:\n",
        "        text = file.read()\n",
        "    text = text.lower()\n",
        "    character_count = Counter(text)\n",
        "    result_queue.put(character_count)\n",
        "\n",
        "result_queue_1 = multiprocessing.Queue()\n",
        "result_queue_2 = multiprocessing.Queue()\n",
        "\n",
        "file_path_1 = \"/content/Dostoevskiy Fedor. Prestuplenie i nakazanie - BooksCafe.Net.txt\"\n",
        "file_path_2 = \"/content/Dostoevskiy Fedor. Igrok - BooksCafe.Net.txt\"\n",
        "\n",
        "process_1 = multiprocessing.Process(target=count_characters_in_file, args=(file_path_1, result_queue_1))\n",
        "process_2 = multiprocessing.Process(target=count_characters_in_file, args=(file_path_2, result_queue_2))\n",
        "process_1.start()\n",
        "process_2.start()\n",
        "process_1.join()\n",
        "process_2.join()\n",
        "count_1 = result_queue_1.get()\n",
        "count_2 = result_queue_2.get()\n",
        "print(\"Символы в файле 'Преступление и наказание':\")\n",
        "print(count_1)\n",
        "print(\"\\nСимволы в файле 'Игрок':\")\n",
        "print(count_2)"
      ]
    },
    {
      "cell_type": "markdown",
      "metadata": {
        "id": "-jfxWbSZdlTk"
      },
      "source": [
        "## Продолжение"
      ]
    },
    {
      "cell_type": "markdown",
      "metadata": {
        "id": "ewvmNsoxodw2"
      },
      "source": [
        "##1."
      ]
    },
    {
      "cell_type": "markdown",
      "metadata": {
        "id": "MZKX3tZ9dlTk"
      },
      "source": [
        "1. Разбейте файл `recipes_full.csv` на несколько (например, 8) примерно одинаковых по объему файлов c названиями `id_tag_nsteps_*.csv`. Каждый файл содержит 3 столбца: `id`, `tag` и `n_steps`, разделенных символом `;`. Для разбора строк используйте `csv.reader`.\n",
        "\n",
        "__Важно__: вы не можете загружать в память весь файл сразу. Посмотреть на первые несколько строк файла вы можете, написав код, который считывает эти строки.\n",
        "\n",
        "Подсказка: примерное кол-во строк в файле - 2.3 млн.\n",
        "\n",
        "```\n",
        "id;tag;n_steps\n",
        "137739;60-minutes-or-less;11\n",
        "137739;time-to-make;11\n",
        "137739;course;11\n",
        "```\n"
      ]
    },
    {
      "cell_type": "code",
      "execution_count": null,
      "metadata": {
        "id": "xDwB2pYz3SIq"
      },
      "outputs": [],
      "source": [
        "import multiprocessing\n",
        "import pandas as pd\n",
        "import os\n",
        "import csv\n",
        "import time"
      ]
    },
    {
      "cell_type": "code",
      "execution_count": null,
      "metadata": {
        "colab": {
          "base_uri": "https://localhost:8080/"
        },
        "id": "dKsJRYrW2RFw",
        "outputId": "65e6fa7a-998d-4bad-aa4f-c329ca2a7116"
      },
      "outputs": [
        {
          "name": "stdout",
          "output_type": "stream",
          "text": [
            "Drive already mounted at /content/drive; to attempt to forcibly remount, call drive.mount(\"/content/drive\", force_remount=True).\n"
          ]
        }
      ],
      "source": [
        "from google.colab import drive\n",
        "drive.mount('/content/drive')"
      ]
    },
    {
      "cell_type": "code",
      "execution_count": null,
      "metadata": {
        "colab": {
          "base_uri": "https://localhost:8080/"
        },
        "id": "MrgjbfsJvvba",
        "outputId": "fa9bada2-80ca-4078-b994-b0b08045bfa3"
      },
      "outputs": [
        {
          "name": "stdout",
          "output_type": "stream",
          "text": [
            "<_csv.reader object at 0x78e790428f20>\n",
            "id_tag_nsteps_0.csv\n",
            "id_tag_nsteps_1.csv\n",
            "id_tag_nsteps_2.csv\n",
            "id_tag_nsteps_3.csv\n",
            "id_tag_nsteps_4.csv\n",
            "id_tag_nsteps_5.csv\n",
            "id_tag_nsteps_6.csv\n",
            "id_tag_nsteps_7.csv\n"
          ]
        }
      ],
      "source": [
        "path = '/content/recipes_full.csv'\n",
        "\n",
        "len_file = 278955\n",
        "count_file = 0\n",
        "count_line = 0\n",
        "batch_lines = len_file//8\n",
        "\n",
        "with open(path, 'r', newline='', encoding='utf-8') as infile: # чтобы не возникли лишние пустые строки между записями\n",
        "    reader = csv.reader(infile)\n",
        "    print(reader)\n",
        "\n",
        "    outfile = open(f'id_tag_nsteps_{count_file}.csv', 'w', newline='', encoding='utf-8')\n",
        "    # создание объекта, который будет записывать строки в файл\n",
        "    writer = csv.writer(outfile, delimiter=';')\n",
        "    writer.writerow(['id', 'tag', 'n_steps'])\n",
        "    print(f'id_tag_nsteps_{count_file}.csv')\n",
        "\n",
        "    for row in reader:\n",
        "        if count_line == 0: # шапка таблицы\n",
        "            count_line += 1\n",
        "            continue\n",
        "\n",
        "        # записываем 1 строку\n",
        "        id, tag, n_steps = int(row[0]), row[1], int(row[2])\n",
        "        writer.writerow([id, tag, n_steps])\n",
        "        count_line += 1\n",
        "\n",
        "        # закрытие файла и создание нового при достижении лимита строк\n",
        "        if count_line >= batch_lines and count_file < 7:\n",
        "            outfile.close()\n",
        "            count_file += 1\n",
        "            count_line = 0\n",
        "\n",
        "            # открываем новый файл и записываем туда шапку файла\n",
        "            outfile = open(f'id_tag_nsteps_{count_file}.csv', 'w', newline='', encoding='utf-8')\n",
        "            print(f'id_tag_nsteps_{count_file}.csv')\n",
        "            writer = csv.writer(outfile, delimiter=';')\n",
        "            writer.writerow(['id', 'tag', 'n_steps'])\n",
        "\n",
        "\n",
        "    outfile.close() # закрываем последний файл"
      ]
    },
    {
      "cell_type": "code",
      "execution_count": null,
      "metadata": {
        "colab": {
          "base_uri": "https://localhost:8080/"
        },
        "id": "u0xxJXrJ0dTO",
        "outputId": "1de48f52-0338-4a52-9844-d7b873d0beae"
      },
      "outputs": [
        {
          "name": "stdout",
          "output_type": "stream",
          "text": [
            "(34868, 3)\n",
            "(34868, 3)\n",
            "(34868, 3)\n",
            "(34868, 3)\n",
            "(34868, 3)\n",
            "(34868, 3)\n",
            "(34868, 3)\n",
            "(34872, 3)\n"
          ]
        }
      ],
      "source": [
        "for i in range(8):\n",
        "    df = pd.read_csv(f'id_tag_nsteps_{i}.csv', sep=';')\n",
        "    print(df.shape)"
      ]
    },
    {
      "cell_type": "markdown",
      "metadata": {
        "id": "BnYxveJ-dlTl"
      },
      "source": [
        "2. Напишите функцию, которая принимает на вход название файла, созданного в результате решения задачи 1, считает среднее значение количества шагов для каждого тэга и возвращает результат в виде словаря."
      ]
    },
    {
      "cell_type": "code",
      "execution_count": null,
      "metadata": {
        "colab": {
          "base_uri": "https://localhost:8080/"
        },
        "id": "QpocjUf4xOqi",
        "outputId": "45c91e78-1cc8-4a28-ffa5-088f5ca0b7e0"
      },
      "outputs": [
        {
          "name": "stdout",
          "output_type": "stream",
          "text": [
            "34635\n"
          ]
        }
      ],
      "source": [
        "def get_mean_steps(name):\n",
        "    df = pd.read_csv(name, sep=';')\n",
        "    return df.groupby('tag')['n_steps'].mean().to_dict()\n",
        "\n",
        "d0 = get_mean_steps('id_tag_nsteps_0.csv')\n",
        "print(len(d0))"
      ]
    },
    {
      "cell_type": "markdown",
      "metadata": {
        "id": "5xTWwpAtdlTl"
      },
      "source": [
        "3. Напишите функцию, которая считает среднее значение количества шагов для каждого тэга по всем файлам, полученным в задаче 1, и возвращает результат в виде словаря. Не используйте параллельных вычислений. При реализации выделите функцию, которая объединяет результаты обработки отдельных файлов. Модифицируйте код из задачи 2 таким образом, чтобы иметь возможность получить результат, имея результаты обработки отдельных файлов. Определите, за какое время задача решается для всех файлов.\n"
      ]
    },
    {
      "cell_type": "code",
      "execution_count": null,
      "metadata": {
        "colab": {
          "base_uri": "https://localhost:8080/"
        },
        "id": "vVpuq1clVnXk",
        "outputId": "6b96637b-5cc6-45e2-ab3c-fa2cbefd185c"
      },
      "outputs": [
        {
          "name": "stdout",
          "output_type": "stream",
          "text": [
            "Выполнено за 1.09 сек.\n"
          ]
        }
      ],
      "source": [
        "# суммируем значения для одинаковых ключей\n",
        "def union_results(results):\n",
        "    ans_dict = {} # суммарные значения количества шагов для каждого тега\n",
        "    count_dict = {} # количество файлов, в которых встречается каждый тег\n",
        "    for d in results:\n",
        "        for k in d:\n",
        "            if k not in ans_dict:\n",
        "                ans_dict[k] = d[k]\n",
        "                count_dict[k] = 1\n",
        "            else:\n",
        "                ans_dict[k] += d[k]\n",
        "                count_dict[k] += 1\n",
        "\n",
        "    ans_dict = {k: ans_dict[k] / count_dict[k] for k in ans_dict}\n",
        "    return ans_dict\n",
        "\n",
        "start = time.perf_counter()\n",
        "\n",
        "results = []\n",
        "for i in range(7):\n",
        "    results.append(get_mean_steps(f'id_tag_nsteps_{i}.csv'))\n",
        "\n",
        "ans = union_results(results)\n",
        "\n",
        "finish = time.perf_counter()\n",
        "print(f'Выполнено за {round(finish - start, 2)} сек.')"
      ]
    },
    {
      "cell_type": "markdown",
      "metadata": {
        "id": "Dsy7hekKdlTl"
      },
      "source": [
        "4. Решите задачу 3, распараллелив вычисления с помощью модуля `multiprocessing`. Для обработки каждого файла создайте свой собственный процесс. Определите, за какое время задача решается для всех файлов."
      ]
    },
    {
      "cell_type": "code",
      "execution_count": null,
      "metadata": {
        "colab": {
          "base_uri": "https://localhost:8080/"
        },
        "id": "erPcU1fcBUeK",
        "outputId": "0825f844-c0ae-4681-bfc9-e311f110f44d"
      },
      "outputs": [
        {
          "name": "stdout",
          "output_type": "stream",
          "text": [
            "Выполнено за 1.55 сек.\n"
          ]
        }
      ],
      "source": [
        "import time\n",
        "start = time.perf_counter()\n",
        "\n",
        "# Проверям, что скрипт запускается как основная программа\n",
        "if __name__ == '__main__':\n",
        "    # Создание пула процессов\n",
        "    with multiprocessing.Pool(processes=multiprocessing.cpu_count()) as p: # (будет создано столько параллельных процессов, сколько доступно ядер на компьютере)\n",
        "        results = p.map(get_mean_steps, [f'id_tag_nsteps_{i}.csv' for i in range(7)])\n",
        "\n",
        "    ans = union_results(results)\n",
        "    finish = time.perf_counter()\n",
        "\n",
        "print(f'Выполнено за {round(finish - start, 2)} сек.')"
      ]
    },
    {
      "cell_type": "markdown",
      "metadata": {
        "id": "koxRg_EFdlTl"
      },
      "source": [
        "5. (*) Решите задачу 3, распараллелив вычисления с помощью модуля `multiprocessing`. Создайте фиксированное количество процессов (равное половине количества ядер на компьютере). При помощи очереди передайте названия файлов для обработки процессам и при помощи другой очереди заберите от них ответы."
      ]
    },
    {
      "cell_type": "code",
      "execution_count": null,
      "metadata": {
        "colab": {
          "background_save": true
        },
        "id": "CgZaqJBwkyqG"
      },
      "outputs": [],
      "source": [
        "import multiprocessing as mp\n",
        "\n",
        "# асинхронное извлечение данных из очереди, которая используется для обмена информацией между процессами\n",
        "def yield_from_process(q: mp.Queue, p: mp.Process):\n",
        "    while p.is_alive():\n",
        "        p.join(timeout=1) # функция проверяет его состояние каждую 1 секунду\n",
        "        while True:\n",
        "            try:\n",
        "                yield q.get(block=False)\n",
        "            except Exception as e:\n",
        "                break\n",
        "\n",
        "# обрабатывает данные, поступающие через очередь, и отправляет результаты в другую очередь.\n",
        "def worker(qin, qout):\n",
        "    while True:\n",
        "        input = qin.get()\n",
        "        if input is None:\n",
        "            break\n",
        "        output = get_mean_steps(input)\n",
        "        qout.put(output)\n",
        "\n",
        "# Проверям, что скрипт запускается как основная программа\n",
        "if __name__ == \"__main__\":\n",
        "    start = time.perf_counter()\n",
        "\n",
        "    p_amount = os.cpu_count() // 2\n",
        "\n",
        "    qin = mp.Queue()\n",
        "    qout = mp.Queue()\n",
        "\n",
        "    results = []\n",
        "\n",
        "    processes = [\n",
        "        mp.Process(\n",
        "            target=worker,\n",
        "            args=(\n",
        "                qin,\n",
        "                qout,\n",
        "            ),\n",
        "        )\n",
        "        for i in range(p_amount)\n",
        "    ]\n",
        "\n",
        "    for p in processes:\n",
        "        p.start()\n",
        "\n",
        "    for i in range(7):\n",
        "        qin.put(f\"id_tag_nsteps_{i}.csv\") # Передаем результат в очередь\n",
        "\n",
        "    for p in processes:\n",
        "        for res in yield_from_process(qout, p):\n",
        "            results.append(res)\n",
        "            qin.put(None)\n",
        "\n",
        "    ans = union_results(results)\n",
        "    finish = time.perf_counter()\n",
        "    print(ans)\n",
        "    print(f\"Done in {finish - time}\")"
      ]
    }
  ],
  "metadata": {
    "colab": {
      "provenance": []
    },
    "kernelspec": {
      "display_name": "Python 3",
      "name": "python3"
    },
    "language_info": {
      "codemirror_mode": {
        "name": "ipython",
        "version": 3
      },
      "file_extension": ".py",
      "mimetype": "text/x-python",
      "name": "python",
      "nbconvert_exporter": "python",
      "pygments_lexer": "ipython3",
      "version": "3.11.5"
    }
  },
  "nbformat": 4,
  "nbformat_minor": 0
}